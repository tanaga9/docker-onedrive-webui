{
 "cells": [
  {
   "cell_type": "code",
   "execution_count": 1,
   "id": "a2c47579-d477-40bd-b7cf-5fc1c54b1ff1",
   "metadata": {},
   "outputs": [],
   "source": [
    "import sqlite3, contextlib, time, json2html\n",
    "from IPython.display import display, HTML, clear_output\n",
    "\n",
    "def dict_factory(cursor, row):\n",
    "    return {col[0]: row[idx] for idx, col in enumerate(cursor.description)}\n"
   ]
  },
  {
   "cell_type": "code",
   "execution_count": 2,
   "id": "d4b9dbf1-2039-44de-8f0a-680be153d25c",
   "metadata": {},
   "outputs": [],
   "source": [
    "sql = '''\n",
    "select\n",
    "driveId, id, parentId, type, mtime, syncStatus, name\n",
    "from item\n",
    "where syncStatus != 'Y'\n",
    "order by mtime desc\n",
    "'''\n"
   ]
  },
  {
   "cell_type": "code",
   "execution_count": null,
   "id": "d105585b-8f31-4bb0-b456-87549d5e17d9",
   "metadata": {},
   "outputs": [
    {
     "data": {
      "text/html": [],
      "text/plain": [
       "<IPython.core.display.HTML object>"
      ]
     },
     "metadata": {},
     "output_type": "display_data"
    }
   ],
   "source": [
    "try:\n",
    "    for i in range(60*60):\n",
    "        with contextlib.closing(\n",
    "            sqlite3.connect(\n",
    "                f\"file:/onedrive/conf/items.sqlite3?mode=ro&immutable=1\",\n",
    "                uri=True)) as con:\n",
    "            con.row_factory = dict_factory\n",
    "            with contextlib.closing(con.cursor()) as cur:\n",
    "                cur.execute(sql)\n",
    "                d = cur.fetchall()\n",
    "                clear_output(wait=True)\n",
    "                display(HTML(json2html.json2html.convert(json = d)))\n",
    "        time.sleep(1)\n",
    "except KeyboardInterrupt as e:\n",
    "    pass"
   ]
  },
  {
   "cell_type": "code",
   "execution_count": null,
   "id": "bf24945c-e02a-44c5-b2df-b9b2384b7991",
   "metadata": {},
   "outputs": [],
   "source": []
  }
 ],
 "metadata": {
  "kernelspec": {
   "display_name": "Python 3 (ipykernel)",
   "language": "python",
   "name": "python3"
  },
  "language_info": {
   "codemirror_mode": {
    "name": "ipython",
    "version": 3
   },
   "file_extension": ".py",
   "mimetype": "text/x-python",
   "name": "python",
   "nbconvert_exporter": "python",
   "pygments_lexer": "ipython3",
   "version": "3.8.10"
  }
 },
 "nbformat": 4,
 "nbformat_minor": 5
}
