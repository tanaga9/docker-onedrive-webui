{
 "cells": [
  {
   "cell_type": "code",
   "execution_count": null,
   "id": "14541d13",
   "metadata": {},
   "outputs": [],
   "source": [
    "import subprocess as sub, re, pwd, os, spwd"
   ]
  },
  {
   "cell_type": "code",
   "execution_count": null,
   "id": "e2316b96",
   "metadata": {},
   "outputs": [],
   "source": [
    "oduser = pwd.getpwuid(int(os.getenv('ONEDRIVE_UID')))"
   ]
  },
  {
   "cell_type": "code",
   "execution_count": null,
   "id": "2f3a93e5",
   "metadata": {},
   "outputs": [],
   "source": [
    "args = [\n",
    "    'gosu',\n",
    "    oduser[0],\n",
    "    '/usr/local/bin/onedrive',\n",
    "    '--logout',\n",
    "    '--confdir',\n",
    "    '/onedrive/conf',\n",
    "    '--syncdir',\n",
    "    '/onedrive/data',\n",
    "]"
   ]
  },
  {
   "cell_type": "code",
   "execution_count": null,
   "id": "ee0d7cbe",
   "metadata": {},
   "outputs": [],
   "source": [
    "result = sub.run(args, stdout=sub.PIPE)\n",
    "result.stdout"
   ]
  },
  {
   "cell_type": "code",
   "execution_count": null,
   "id": "a8c1df33",
   "metadata": {},
   "outputs": [],
   "source": [
    "m = re.match(r'.*\\nAuthorize this app visiting:\\n\\n(.*)\\n/*', result.stdout.decode('utf-8'))\n",
    "print(m[1])"
   ]
  },
  {
   "cell_type": "markdown",
   "id": "f6bcf8be",
   "metadata": {},
   "source": [
    "Input\n",
    "--------"
   ]
  },
  {
   "cell_type": "code",
   "execution_count": null,
   "id": "8a0c3b16",
   "metadata": {},
   "outputs": [],
   "source": [
    "response_uri = '''\n",
    "https://login.microsoftonline.com/common/oauth2/nativeclient?code=M.R3_BAY.xxxxxxxx-xxxx-xxxx-xxxx-xxxxxxxxxxxx\n",
    "'''.strip('\\r\\n')"
   ]
  },
  {
   "cell_type": "code",
   "execution_count": null,
   "id": "2e288a2c",
   "metadata": {},
   "outputs": [],
   "source": [
    "sub.run(args, input=response_uri, text=True)\n"
   ]
  },
  {
   "cell_type": "code",
   "execution_count": null,
   "id": "f55e5259",
   "metadata": {},
   "outputs": [],
   "source": []
  }
 ],
 "metadata": {
  "kernelspec": {
   "display_name": "Python 3 (ipykernel)",
   "language": "python",
   "name": "python3"
  },
  "language_info": {
   "codemirror_mode": {
    "name": "ipython",
    "version": 3
   },
   "file_extension": ".py",
   "mimetype": "text/x-python",
   "name": "python",
   "nbconvert_exporter": "python",
   "pygments_lexer": "ipython3",
   "version": "3.8.10"
  }
 },
 "nbformat": 4,
 "nbformat_minor": 5
}
