{
 "cells": [
  {
   "cell_type": "code",
   "execution_count": null,
   "id": "b1bd1475-8bce-49f6-a4e0-5fe283efdf0b",
   "metadata": {},
   "outputs": [],
   "source": [
    "import subprocess as sub, re, pwd, os, spwd"
   ]
  },
  {
   "cell_type": "code",
   "execution_count": null,
   "id": "6d8db7d2-51cd-4763-904e-9d90a593f2ab",
   "metadata": {},
   "outputs": [],
   "source": [
    "oduser = pwd.getpwuid(int(os.getenv('ONEDRIVE_UID')))"
   ]
  },
  {
   "cell_type": "code",
   "execution_count": null,
   "id": "e2cdbdc0-8dab-46e2-8c69-6e63860de30d",
   "metadata": {},
   "outputs": [],
   "source": [
    "args = [\n",
    "    'gosu',\n",
    "    oduser[0],\n",
    "    '/usr/local/bin/onedrive',\n",
    "    '--display-config',\n",
    "]"
   ]
  },
  {
   "cell_type": "code",
   "execution_count": null,
   "id": "979015c7-dd2a-45e9-9eea-9503b9dec437",
   "metadata": {},
   "outputs": [],
   "source": [
    "sub.check_call(args)"
   ]
  },
  {
   "cell_type": "code",
   "execution_count": null,
   "id": "cc332c91-4a8c-475f-a232-e192499bfa95",
   "metadata": {},
   "outputs": [],
   "source": []
  }
 ],
 "metadata": {
  "kernelspec": {
   "display_name": "Python 3 (ipykernel)",
   "language": "python",
   "name": "python3"
  },
  "language_info": {
   "codemirror_mode": {
    "name": "ipython",
    "version": 3
   },
   "file_extension": ".py",
   "mimetype": "text/x-python",
   "name": "python",
   "nbconvert_exporter": "python",
   "pygments_lexer": "ipython3",
   "version": "3.8.10"
  }
 },
 "nbformat": 4,
 "nbformat_minor": 5
}
