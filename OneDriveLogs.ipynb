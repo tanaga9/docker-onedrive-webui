{
 "cells": [
  {
   "cell_type": "code",
   "execution_count": null,
   "id": "c3712e59-4064-4293-b37d-1b597284d611",
   "metadata": {},
   "outputs": [],
   "source": [
    "d = {\n",
    "    'Upload-mod': r'Uploading modified file (.*) ... done.',\n",
    "    'Upload-new': r'Uploading new file (.*) ... done.',\n",
    "    'Download':   r'Downloading file (.*) ... done.',\n",
    "    'Skip':       r'Skipping item - invalid name \\(Microsoft Naming Convention\\): (.*)'\n",
    "}"
   ]
  },
  {
   "cell_type": "code",
   "execution_count": null,
   "id": "47aa069c-5d4c-4836-8c92-720326f368ea",
   "metadata": {},
   "outputs": [],
   "source": [
    "import xmlrpc\n",
    "server = xmlrpc.client.ServerProxy('http://localhost:9001/RPC2')"
   ]
  },
  {
   "cell_type": "code",
   "execution_count": null,
   "id": "98544d61-0682-41a6-b641-0558cd599ce0",
   "metadata": {},
   "outputs": [],
   "source": [
    "import re\n",
    "from IPython.display import display, HTML"
   ]
  },
  {
   "cell_type": "code",
   "execution_count": null,
   "id": "3a9bc308-953e-4471-b35d-7d8e1460ca8d",
   "metadata": {},
   "outputs": [],
   "source": [
    "def showlog(line):\n",
    "    for key, val in d.items():\n",
    "        m = re.match(val, line)\n",
    "        if m:\n",
    "            if key == 'Skip':\n",
    "                display(HTML('''\n",
    "                <div class=\"jp-RenderedText\"><pre>\n",
    "                <span class=\"ansi-yellow-bg\">{}: <span class=\"ansi-red-fg\">{}</span></span>\n",
    "                </pre></div>\n",
    "                '''.format(key, m[1])))\n",
    "            else:\n",
    "                display(HTML('''\n",
    "                <div class=\"jp-RenderedText\"><pre>\n",
    "                <span class=\"ansi-cyan-bg\">{}: <span class=\"ansi-blue-fg\">{}</span></span>\n",
    "                </pre></div>\n",
    "                '''.format(key, m[1])))\n",
    "            break\n",
    "    else:\n",
    "        display(HTML('''\n",
    "        <div class=\"jp-RenderedText\"><pre>\n",
    "        <span class=\"ansi-white-bg\">{}</span>\n",
    "        </pre></div>\n",
    "        '''.format(line)))\n"
   ]
  },
  {
   "cell_type": "code",
   "execution_count": null,
   "id": "2ee480e6-ebbf-44e8-881e-27dad977f3f0",
   "metadata": {},
   "outputs": [],
   "source": [
    "for line in server.supervisor.readProcessStdoutLog('onedrive', 0, 0).splitlines():\n",
    "    showlog(line)"
   ]
  },
  {
   "cell_type": "code",
   "execution_count": null,
   "id": "0fa48b02-88fb-4875-8fad-61f51231df8c",
   "metadata": {},
   "outputs": [],
   "source": []
  }
 ],
 "metadata": {
  "kernelspec": {
   "display_name": "Python 3 (ipykernel)",
   "language": "python",
   "name": "python3"
  },
  "language_info": {
   "codemirror_mode": {
    "name": "ipython",
    "version": 3
   },
   "file_extension": ".py",
   "mimetype": "text/x-python",
   "name": "python",
   "nbconvert_exporter": "python",
   "pygments_lexer": "ipython3",
   "version": "3.8.10"
  }
 },
 "nbformat": 4,
 "nbformat_minor": 5
}
